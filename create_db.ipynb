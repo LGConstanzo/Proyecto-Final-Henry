{
 "cells": [
  {
   "cell_type": "markdown",
   "metadata": {},
   "source": [
    "Importar la librería, asignar las variables y crear la conección"
   ]
  },
  {
   "cell_type": "code",
   "execution_count": null,
   "metadata": {},
   "outputs": [],
   "source": [
    "import pyodbc\n",
    "\n",
    "server = 'localhost\\\\SQLEXPRESS'\n",
    "database = 'master'\n",
    "\n",
    "# Create a connection string\n",
    "conn_str = (\n",
    "    'DRIVER={ODBC Driver 17 for SQL Server};'\n",
    "    'SERVER=' + server + ';'  # replace with your server name\n",
    "    'DATABASE=' + database + ';'  # the database you want to connect to\n",
    "    'Trusted_Connection=yes;'\n",
    ")"
   ]
  },
  {
   "cell_type": "markdown",
   "metadata": {},
   "source": [
    "Crear la base de datos"
   ]
  },
  {
   "cell_type": "code",
   "execution_count": null,
   "metadata": {},
   "outputs": [],
   "source": [
    "# Create a connection\n",
    "conn = pyodbc.connect(conn_str, autocommit=True) # El autocommint en True permite crear la base desde el codigo\n",
    "\n",
    "# Create a cursor\n",
    "cursor = conn.cursor()\n",
    "\n",
    "# Execute the CREATE DATABASE statement\n",
    "cursor.execute('CREATE DATABASE DAFT01_Grupo1_nba')  # replace with your database name\n",
    "\n",
    "# Close the cursor and the connection\n",
    "cursor.close()\n",
    "conn.close()"
   ]
  }
 ],
 "metadata": {
  "language_info": {
   "name": "python"
  }
 },
 "nbformat": 4,
 "nbformat_minor": 2
}
